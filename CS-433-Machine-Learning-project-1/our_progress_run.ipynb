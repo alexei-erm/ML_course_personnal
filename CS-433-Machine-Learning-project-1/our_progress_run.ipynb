{
 "cells": [
  {
   "cell_type": "code",
   "execution_count": 99,
   "metadata": {},
   "outputs": [
    {
     "name": "stdout",
     "output_type": "stream",
     "text": [
      "The autoreload extension is already loaded. To reload it, use:\n",
      "  %reload_ext autoreload\n"
     ]
    }
   ],
   "source": [
    "import numpy as np\n",
    "from helpers import *\n",
    "from implementations import *\n",
    "from data_processing import *\n",
    "from hyperparams import *\n",
    "from our_progress_run_loop import *\n",
    "from classification import *\n",
    "%load_ext autoreload\n",
    "%autoreload 2"
   ]
  },
  {
   "cell_type": "code",
   "execution_count": 100,
   "metadata": {},
   "outputs": [],
   "source": [
    "%reload_ext autoreload "
   ]
  },
  {
   "cell_type": "code",
   "execution_count": 3,
   "metadata": {},
   "outputs": [],
   "source": [
    "# some functions used below\n",
    "\n",
    "def get_only_accuracy(y_result, y_te):\n",
    "    difference = (y_result-y_te)\n",
    "    good_guess = difference[difference==0]\n",
    "    bad_guess = difference[difference!=0]\n",
    "    accuracy = len(good_guess)/(len(good_guess)+len(bad_guess))\n",
    "    return accuracy\n",
    "\n",
    "def standardize(x):\n",
    "    X = np.copy(x)\n",
    "    means = np.mean(X, axis=0)\n",
    "    tx_new = X - means * np.ones(np.shape(X))\n",
    "    std_dev = np.std(tx_new, axis=0)\n",
    "    X = tx_new / (std_dev * np.ones(np.shape(X)))\n",
    "    return X, means, std_dev"
   ]
  },
  {
   "cell_type": "markdown",
   "metadata": {},
   "source": [
    "## Loading/splitting train data"
   ]
  },
  {
   "cell_type": "code",
   "execution_count": 71,
   "metadata": {},
   "outputs": [],
   "source": [
    "# loading train data\n",
    "yb, input_data, ids = load_csv_data(\"train.csv\")\n",
    "dimensions = np.shape(input_data)\n",
    "N = dimensions[0]\n",
    "P = dimensions[1]\n",
    "yb = np.reshape(yb,[N,1])\n",
    "yb[yb==-1] = 0 # adapting to our logistic loss function"
   ]
  },
  {
   "cell_type": "code",
   "execution_count": 5,
   "metadata": {},
   "outputs": [],
   "source": [
    "x = data_replace(input_data)"
   ]
  },
  {
   "cell_type": "code",
   "execution_count": 41,
   "metadata": {},
   "outputs": [],
   "source": [
    "y_tr, x_tr, y_te, x_te = split_data(yb,x,0.8)"
   ]
  },
  {
   "cell_type": "markdown",
   "metadata": {},
   "source": [
    "## Case 1\n",
    "\n",
    "logistic regression\n",
    "\n",
    "\n",
    "It is immediately noticeable that this method is completely incorrect: the -999 values and others that are too high make the exponential terms overflow "
   ]
  },
  {
   "cell_type": "code",
   "execution_count": 7,
   "metadata": {},
   "outputs": [
    {
     "name": "stderr",
     "output_type": "stream",
     "text": [
      "/Users/alexei.ermochkine/Downloads/ML1_final/implementations.py:229: RuntimeWarning: overflow encountered in exp\n",
      "  return 1/(1+np.exp(-t))\n",
      "/Users/alexei.ermochkine/Downloads/ML1_final/implementations.py:246: RuntimeWarning: divide by zero encountered in log\n",
      "  loss = -(1/len(y)) * ( y.T @ np.log(sigmoid(tx@w)) + (1-y).T @ np.log(1-sigmoid(tx@w)) )\n",
      "/Users/alexei.ermochkine/Downloads/ML1_final/implementations.py:246: RuntimeWarning: invalid value encountered in matmul\n",
      "  loss = -(1/len(y)) * ( y.T @ np.log(sigmoid(tx@w)) + (1-y).T @ np.log(1-sigmoid(tx@w)) )\n"
     ]
    }
   ],
   "source": [
    "x1 = np.copy(x)\n",
    "initial_w = np.ones([P,1])\n",
    "max_iters = 100\n",
    "gamma = 0.7\n",
    "w_opt_1, mse = logistic_regression(yb, x1, initial_w, max_iters, gamma)"
   ]
  },
  {
   "cell_type": "markdown",
   "metadata": {},
   "source": [
    "## Case 2 \n",
    "logistic regression + normalized\n"
   ]
  },
  {
   "cell_type": "code",
   "execution_count": 22,
   "metadata": {},
   "outputs": [],
   "source": [
    "x2 = np.copy(x_tr)\n",
    "\n",
    "x2, means2, std_dev2 = standardize(x2)\n",
    "\n",
    "initial_w = np.zeros([P,1])\n",
    "max_iters = 100\n",
    "gamma = 0.7\n",
    "w_opt_2, mse = logistic_regression(y_tr, x2, initial_w, max_iters, gamma)"
   ]
  },
  {
   "cell_type": "code",
   "execution_count": 23,
   "metadata": {},
   "outputs": [],
   "source": [
    "tx_new = np.copy(x_te)\n",
    "mean_te_2 = np.mean(tx_new)\n",
    "std_te_2 = np.std(tx_new)\n",
    "tx_new = tx_new - mean_te_2\n",
    "x_te_2 = tx_new / std_te_2  \n",
    "\n",
    "temporary = sigmoid(x_te_2@w_opt_2)\n",
    "y_result = temporary\n",
    "y_result[y_result>0.5] = 1\n",
    "y_result[y_result<0.5] = 0\n",
    "accuracy2 = get_only_accuracy(y_result, y_te)"
   ]
  },
  {
   "cell_type": "code",
   "execution_count": 24,
   "metadata": {},
   "outputs": [
    {
     "data": {
      "text/plain": [
       "0.45622"
      ]
     },
     "execution_count": 24,
     "metadata": {},
     "output_type": "execute_result"
    }
   ],
   "source": [
    "accuracy2"
   ]
  },
  {
   "cell_type": "markdown",
   "metadata": {},
   "source": [
    "## Case 3\n",
    "\n",
    "logistic regression + normalized + w0\n"
   ]
  },
  {
   "cell_type": "code",
   "execution_count": 25,
   "metadata": {},
   "outputs": [],
   "source": [
    "x3 = np.copy(x_tr)\n",
    "x3, means3, std_dev3 = standardize(x3)\n",
    "x3 = add_w0(x3,x3.shape[0])\n",
    "\n",
    "initial_w = np.zeros([P+1,1])\n",
    "max_iters = 100\n",
    "gamma = 0.7\n",
    "w_opt_3, mse = logistic_regression(y_tr, x3, initial_w, max_iters, gamma)"
   ]
  },
  {
   "cell_type": "code",
   "execution_count": 26,
   "metadata": {},
   "outputs": [],
   "source": [
    "tx_new = x_te - means3\n",
    "x_te_3 = tx_new / std_dev3  \n",
    "x_te_3 = add_w0(x_te, x_te_3.shape[0])\n",
    "\n",
    "temporary = sigmoid(x_te_3@w_opt_3)\n",
    "\n",
    "y_result = temporary\n",
    "y_result[y_result>0.5] = 1\n",
    "y_result[y_result<0.5] = 0\n",
    "accuracy3 = get_only_accuracy(y_result, y_te)"
   ]
  },
  {
   "cell_type": "code",
   "execution_count": 27,
   "metadata": {},
   "outputs": [
    {
     "data": {
      "text/plain": [
       "0.5257"
      ]
     },
     "execution_count": 27,
     "metadata": {},
     "output_type": "execute_result"
    }
   ],
   "source": [
    "accuracy3"
   ]
  },
  {
   "cell_type": "markdown",
   "metadata": {},
   "source": [
    "## Case 4\n",
    "\n",
    "logistic regression + normalized smart + w0\n"
   ]
  },
  {
   "cell_type": "code",
   "execution_count": 105,
   "metadata": {},
   "outputs": [],
   "source": [
    "x4 = np.copy(x_tr)\n",
    "indices_min_max =[3,11,12,22,26]\n",
    "indices_gaussian =[0,1,6,8,13,14,16,17,24,27]\n",
    "indices_angles = [15,18,20,25,28]\n",
    "indices_gaussian_log = [2,5,7,9,10,19]\n",
    "normalize(x4, indices_gaussian_log, indices_angles, indices_gaussian, indices_min_max)\n",
    "x4= add_w0(x4,x4.shape[0])\n",
    "\n",
    "initial_w = np.zeros([P+1,1])\n",
    "max_iters = 100\n",
    "gamma = 0.7\n",
    "w_opt_4, mse = logistic_regression(y_tr, x4, initial_w, max_iters, gamma)"
   ]
  },
  {
   "cell_type": "code",
   "execution_count": 43,
   "metadata": {},
   "outputs": [],
   "source": [
    "x_te_4 = np.copy(x_te)\n",
    "normalize(x_te_4, indices_gaussian_log, indices_angles, indices_gaussian, indices_min_max)\n",
    "x_te_4 = add_w0(x_te_4,x_te_4.shape[0])\n",
    "\n",
    "temporary = sigmoid(x_te_4@w_opt_4)\n",
    "y_result = temporary\n",
    "y_result[y_result>0.5] = 1\n",
    "y_result[y_result<0.5] = 0\n",
    "accuracy4 = get_only_accuracy(y_result, y_te)"
   ]
  },
  {
   "cell_type": "code",
   "execution_count": 44,
   "metadata": {},
   "outputs": [
    {
     "data": {
      "text/plain": [
       "0.65552"
      ]
     },
     "execution_count": 44,
     "metadata": {},
     "output_type": "execute_result"
    }
   ],
   "source": [
    "accuracy4"
   ]
  },
  {
   "cell_type": "markdown",
   "metadata": {},
   "source": [
    "## Case 5\n",
    "logistic regression + normalized smart + w0 + high correlation features removed"
   ]
  },
  {
   "cell_type": "code",
   "execution_count": 96,
   "metadata": {},
   "outputs": [],
   "source": [
    "x5 = np.copy(x_tr)\n",
    "indices_min_max =[3,11,12,22,26]\n",
    "indices_gaussian =[0,1,6,8,13,14,16,17,24,27]\n",
    "indices_angles = [15,18,20,25,28]\n",
    "indices_gaussian_log = [2,5,7,9,10,19]\n",
    "normalize(x5, indices_gaussian_log, indices_angles, indices_gaussian, indices_min_max)\n",
    "x5 = np.delete(x5,29,1)\n",
    "x5 = np.delete(x5,23,1)\n",
    "x5 = np.delete(x5,21,1)\n",
    "x5 = np.delete(x5,4,1)\n",
    "x5= add_w0(x5, x5.shape[0])\n",
    "\n",
    "initial_w = np.zeros([P-3,1])\n",
    "max_iters = 100\n",
    "gamma = 0.7\n",
    "w_opt_5, mse = logistic_regression(y_tr, x5, initial_w, max_iters, gamma)\n"
   ]
  },
  {
   "cell_type": "code",
   "execution_count": 97,
   "metadata": {},
   "outputs": [],
   "source": [
    "x_te_5 = np.copy(x_te)\n",
    "normalize(x_te_5, indices_gaussian_log, indices_angles, indices_gaussian, indices_min_max)\n",
    "x_te_5 = np.delete(x_te_5,29,1)\n",
    "x_te_5 = np.delete(x_te_5,23,1)\n",
    "x_te_5 = np.delete(x_te_5,21,1)\n",
    "x_te_5 = np.delete(x_te_5,4,1)\n",
    "x_te_5= add_w0(x_te_5,x_te_5.shape[0])\n",
    "\n",
    "temporary = sigmoid(x_te_5@w_opt_5)\n",
    "y_result = temporary\n",
    "y_result[y_result>0.5] = 1\n",
    "y_result[y_result<0.5] = 0\n",
    "accuracy5 = get_only_accuracy(y_result, y_te)"
   ]
  },
  {
   "cell_type": "code",
   "execution_count": 98,
   "metadata": {},
   "outputs": [
    {
     "data": {
      "text/plain": [
       "0.74578"
      ]
     },
     "execution_count": 98,
     "metadata": {},
     "output_type": "execute_result"
    }
   ],
   "source": [
    "accuracy5"
   ]
  },
  {
   "cell_type": "markdown",
   "metadata": {},
   "source": [
    "## Box plots for each case \n",
    "(depending on the randomness of split_data)"
   ]
  },
  {
   "cell_type": "code",
   "execution_count": 108,
   "metadata": {},
   "outputs": [
    {
     "name": "stderr",
     "output_type": "stream",
     "text": [
      "/Users/alexei.ermochkine/Downloads/ML1_final/implementations.py:229: RuntimeWarning: overflow encountered in exp\n",
      "  return 1/(1+np.exp(-t))\n",
      "/Users/alexei.ermochkine/Downloads/ML1_final/implementations.py:246: RuntimeWarning: divide by zero encountered in log\n",
      "  loss = -(1/len(y)) * ( y.T @ np.log(sigmoid(tx@w)) + (1-y).T @ np.log(1-sigmoid(tx@w)) )\n",
      "/Users/alexei.ermochkine/Downloads/ML1_final/implementations.py:246: RuntimeWarning: invalid value encountered in matmul\n",
      "  loss = -(1/len(y)) * ( y.T @ np.log(sigmoid(tx@w)) + (1-y).T @ np.log(1-sigmoid(tx@w)) )\n"
     ]
    }
   ],
   "source": [
    "M = 10\n",
    "accuracy = np.zeros((M,4))\n",
    "for i in range(M):\n",
    "    accuracy[i,0], accuracy[i,1], accuracy[i,2], accuracy[i,3] = loop(yb,x,0.8,P)"
   ]
  },
  {
   "cell_type": "code",
   "execution_count": 109,
   "metadata": {},
   "outputs": [
    {
     "name": "stdout",
     "output_type": "stream",
     "text": [
      "means for each case:  [0.457588 0.521346 0.596628 0.746016]\n",
      "median for each case:  [0.45868 0.51901 0.65368 0.7464 ]\n",
      "std deviation for each case:  [0.00611008 0.00839424 0.09651229 0.00147523]\n"
     ]
    }
   ],
   "source": [
    "print('means for each case: ', np.mean(accuracy,axis=0))\n",
    "print('median for each case: ',np.median(accuracy,axis=0))\n",
    "print('std deviation for each case: ',np.std(accuracy,axis=0))"
   ]
  },
  {
   "cell_type": "code",
   "execution_count": 110,
   "metadata": {},
   "outputs": [
    {
     "data": {
      "image/png": "[encoded data removed]",
      "text/plain": [
       "<Figure size 432x288 with 1 Axes>"
      ]
     },
     "metadata": {
      "needs_background": "light"
     },
     "output_type": "display_data"
    },
    {
     "data": {
      "text/plain": [
       "<Figure size 432x288 with 0 Axes>"
      ]
     },
     "metadata": {},
     "output_type": "display_data"
    }
   ],
   "source": [
    "fig = plt.figure(1)\n",
    "bp = plt.boxplot(accuracy, vert=True, patch_artist = True)\n",
    "for patch in bp['boxes']:\n",
    " patch.set_color('skyblue')\n",
    "plt.gca().xaxis.set_ticklabels(['case 2', 'case 3', 'case 4','case 5'])\n",
    "plt.title('Accuracy Boxplot')\n",
    "plt.show()\n",
    "plt.savefig('Boxplot functions')"
   ]
  },
  {
   "cell_type": "code",
   "execution_count": null,
   "metadata": {},
   "outputs": [],
   "source": []
  }
 ],
 "metadata": {
  "kernelspec": {
   "display_name": "Python 3.9.5 64-bit",
   "language": "python",
   "name": "python3"
  },
  "language_info": {
   "codemirror_mode": {
    "name": "ipython",
    "version": 3
   },
   "file_extension": ".py",
   "mimetype": "text/x-python",
   "name": "python",
   "nbconvert_exporter": "python",
   "pygments_lexer": "ipython3",
   "version": "3.9.5"
  },
  "orig_nbformat": 4,
  "vscode": {
   "interpreter": {
    "hash": "aee8b7b246df8f9039afb4144a1f6fd8d2ca17a180786b69acc140d282b71a49"
   }
  }
 },
 "nbformat": 4,
 "nbformat_minor": 2
}
